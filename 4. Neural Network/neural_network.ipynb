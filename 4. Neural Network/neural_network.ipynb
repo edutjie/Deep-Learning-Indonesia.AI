{
 "cells": [
  {
   "cell_type": "markdown",
   "metadata": {},
   "source": [
    "*Eduardus Tjitrahardja | @edutjie | 2022*"
   ]
  },
  {
   "cell_type": "markdown",
   "metadata": {},
   "source": [
    "# Neural Network"
   ]
  },
  {
   "cell_type": "markdown",
   "metadata": {},
   "source": [
    "## Importing Libraries"
   ]
  },
  {
   "cell_type": "code",
   "execution_count": 1,
   "metadata": {},
   "outputs": [],
   "source": [
    "import math\n",
    "import numpy as np\n",
    "import matplotlib.pyplot as plt\n",
    "import pprint\n",
    "\n",
    "from random import random, seed; seed(90)"
   ]
  },
  {
   "cell_type": "markdown",
   "metadata": {},
   "source": [
    "## Defining Neural Network"
   ]
  },
  {
   "cell_type": "code",
   "execution_count": 2,
   "metadata": {},
   "outputs": [],
   "source": [
    "def init_neural_network(num_inputs, num_hidden, num_outputs):\n",
    "    network = list()\n",
    "\n",
    "    hidden_layer = [{\"weights\": [random() for i in range(num_inputs + 1)]} for i in range(num_hidden)] # +1 for bias\n",
    "    network.append(hidden_layer)\n",
    "\n",
    "    output_layer = [{\"weights\": [random() for i in range(num_hidden + 1)]} for i in range(num_outputs)] # +1 for bias\n",
    "    network.append(output_layer)\n",
    "\n",
    "    return network"
   ]
  },
  {
   "cell_type": "markdown",
   "metadata": {},
   "source": [
    "## Creating Instance"
   ]
  },
  {
   "cell_type": "code",
   "execution_count": 3,
   "metadata": {},
   "outputs": [
    {
     "data": {
      "text/plain": [
       "[[{'weights': [0.20367044742105156, 0.09269342184833151, 0.6594800023332608]},\n",
       "  {'weights': [0.5861294218137865, 0.6344092107298325, 0.35484694544207973]}],\n",
       " [{'weights': [0.45126484018795465, 0.8883693290473246, 0.817919070323204]},\n",
       "  {'weights': [0.26472725338019576,\n",
       "    0.27283011652347666,\n",
       "    0.07427986373631945]}]]"
      ]
     },
     "execution_count": 3,
     "metadata": {},
     "output_type": "execute_result"
    }
   ],
   "source": [
    "network = init_neural_network(2, 2, 2)\n",
    "network"
   ]
  },
  {
   "cell_type": "markdown",
   "metadata": {},
   "source": [
    "## Forward Propagation"
   ]
  },
  {
   "cell_type": "code",
   "execution_count": 4,
   "metadata": {},
   "outputs": [],
   "source": [
    "def activate(weights, inputs):\n",
    "    activation = weights[-1] # bias\n",
    "    for i in range(len(weights)-1):\n",
    "        activation += weights[i] * inputs[i]\n",
    "    return activation"
   ]
  },
  {
   "cell_type": "code",
   "execution_count": 5,
   "metadata": {},
   "outputs": [],
   "source": [
    "# activation function: sigmoid\n",
    "def transfer(activation):\n",
    "    return 1.0 / (1.0 + math.exp(-activation))"
   ]
  },
  {
   "cell_type": "markdown",
   "metadata": {},
   "source": [
    "## Forward Process"
   ]
  },
  {
   "cell_type": "code",
   "execution_count": 6,
   "metadata": {},
   "outputs": [],
   "source": [
    "def forward_propagate(network, feature):\n",
    "    inputs = feature\n",
    "    for layer in network:\n",
    "        new_inputs = []\n",
    "        for neuron in layer:\n",
    "            activation = activate(neuron[\"weights\"], inputs)\n",
    "            neuron[\"output\"] = transfer(activation)\n",
    "            new_inputs.append(neuron[\"output\"])\n",
    "        inputs = new_inputs\n",
    "    return inputs"
   ]
  },
  {
   "cell_type": "code",
   "execution_count": 7,
   "metadata": {},
   "outputs": [
    {
     "data": {
      "text/plain": [
       "[0.85618547666896, 0.6129706215431857]"
      ]
     },
     "execution_count": 7,
     "metadata": {},
     "output_type": "execute_result"
    }
   ],
   "source": [
    "features = [0.98, 0.1]\n",
    "forward_propagate(network, features)"
   ]
  },
  {
   "cell_type": "markdown",
   "metadata": {},
   "source": [
    "## Back Propogration"
   ]
  },
  {
   "cell_type": "code",
   "execution_count": 8,
   "metadata": {},
   "outputs": [],
   "source": [
    "def transfer_derivative(output):\n",
    "    return output * (1.0 - output)"
   ]
  },
  {
   "cell_type": "code",
   "execution_count": 9,
   "metadata": {},
   "outputs": [],
   "source": [
    "def backward_propagate_error(network, expected):\n",
    "    for i in reversed(range(len(network))):\n",
    "        layer = network[i]\n",
    "        errors = list()\n",
    "        \n",
    "        # error for output layer\n",
    "        if i != len(network)-1:\n",
    "            for j in range(len(layer)):\n",
    "                error = 0.0\n",
    "                for neuron in network[i + 1]:\n",
    "                    error += (neuron[\"weights\"][j] * neuron[\"delta\"])\n",
    "                errors.append(error)\n",
    "        # error for hidden layer\n",
    "        else:\n",
    "            for j in range(len(layer)):\n",
    "                neuron = layer[j]\n",
    "                errors.append(expected[j] - neuron[\"output\"])\n",
    "                \n",
    "        # calculate delta for each neuron\n",
    "        for j in range(len(layer)):\n",
    "            neuron = layer[j]\n",
    "            neuron[\"delta\"] = errors[j] * transfer_derivative(neuron[\"output\"])"
   ]
  },
  {
   "cell_type": "markdown",
   "metadata": {},
   "source": [
    "## Updating Weight"
   ]
  },
  {
   "cell_type": "code",
   "execution_count": 20,
   "metadata": {},
   "outputs": [],
   "source": [
    "def update_weights(network, feature, lr):\n",
    "    for i in range(len(network)):\n",
    "        inputs = feature if i == 0 else [neuron[\"output\"] for neuron in network[i - 1]]\n",
    "        for neuron in network[i]:\n",
    "            for j in range(len(inputs)):\n",
    "                neuron[\"weights\"][j] += lr * neuron[\"delta\"] * inputs[j]\n",
    "            neuron[\"weights\"][-1] += lr * neuron[\"delta\"]"
   ]
  },
  {
   "cell_type": "markdown",
   "metadata": {},
   "source": [
    "## Training Weight"
   ]
  },
  {
   "cell_type": "code",
   "execution_count": 19,
   "metadata": {},
   "outputs": [],
   "source": [
    "def calculate_sum_squared_error(outputs, labels):\n",
    "    \n",
    "    error = sum([(labels[i] - outputs[i])**2 for i in range(len(labels))])\n",
    "    return error"
   ]
  },
  {
   "cell_type": "code",
   "execution_count": 23,
   "metadata": {},
   "outputs": [],
   "source": [
    "def train_network(network, data, num_outputs, learning_rate, num_epochs):\n",
    "    \n",
    "    total_loss = []\n",
    "    print_every = 4\n",
    "    \n",
    "    for epoch in range(1, num_epochs+1):\n",
    "        \n",
    "        sum_error = 0.0\n",
    "        \n",
    "        for features in data:\n",
    "            \n",
    "            # forward propagation\n",
    "            outputs = forward_propagate(network, features)\n",
    "            labels = [0 for _ in range(num_outputs)]\n",
    "            labels[features[-1]] = 1\n",
    "            sum_error += calculate_sum_squared_error(outputs, labels)\n",
    "            \n",
    "            # backward propagation\n",
    "            backward_propagate_error(network, labels)\n",
    "            \n",
    "            # optimize weights\n",
    "            update_weights(network, features, learning_rate)\n",
    "        \n",
    "        if epoch % print_every == 0:\n",
    "            print(f'Epoch: {epoch}, Learning rate: {learning_rate:.3f}, Loss: {sum_error:.3f}')\n",
    "        \n",
    "        total_loss.append(sum_error)\n",
    "        \n",
    "    # removes all delta and outputs calculations\n",
    "    for layer in network: \n",
    "        for neuron in layer: del neuron['output']; del neuron['delta']\n",
    "            \n",
    "    return total_loss"
   ]
  },
  {
   "cell_type": "markdown",
   "metadata": {},
   "source": [
    "## Running Network"
   ]
  },
  {
   "cell_type": "code",
   "execution_count": 12,
   "metadata": {},
   "outputs": [],
   "source": [
    "def plot_network(total_loss):\n",
    "    plt.plot(total_loss)\n",
    "    plt.title(\"Loss\")\n",
    "    plt.xlabel(\"Epoch\")\n",
    "    plt.ylabel(\"Loss\")\n",
    "    plt.show()"
   ]
  },
  {
   "cell_type": "code",
   "execution_count": 13,
   "metadata": {},
   "outputs": [],
   "source": [
    "# refers to http://archive.ics.uci.edu/ml/datasets/seeds for the original datasets\n",
    "datasets = [[2.7810836, 2.550537003, 0], \n",
    "            [1.465489372, 2.362125076, 0], \n",
    "            [3.396561688, 4.400293529, 0], \n",
    "            [1.38807019, 1.850220317, 0], \n",
    "            [3.06407232, 3.005305973, 0], \n",
    "            [7.627531214, 2.759262235, 1], \n",
    "            [5.332441248, 2.088626775, 1], \n",
    "            [6.922596716, 1.77106367, 1], \n",
    "            [8.675418651, -0.242068655, 1], \n",
    "            [7.673756466, 3.508563011, 1]]"
   ]
  },
  {
   "cell_type": "code",
   "execution_count": 14,
   "metadata": {},
   "outputs": [],
   "source": [
    "num_inputs = len(datasets[0]) - 1 # ignore the labels or class\n",
    "num_outputs = len(set([features[-1] for features in datasets]))"
   ]
  },
  {
   "cell_type": "code",
   "execution_count": 15,
   "metadata": {},
   "outputs": [],
   "source": [
    "network = init_neural_network(num_inputs=num_inputs, num_hidden=2, num_outputs=num_outputs)"
   ]
  },
  {
   "cell_type": "code",
   "execution_count": 24,
   "metadata": {},
   "outputs": [
    {
     "name": "stdout",
     "output_type": "stream",
     "text": [
      "Epoch: 4, Learning rate: 0.400, Loss: 0.256\n",
      "Epoch: 8, Learning rate: 0.400, Loss: 0.235\n",
      "Epoch: 12, Learning rate: 0.400, Loss: 0.216\n",
      "Epoch: 16, Learning rate: 0.400, Loss: 0.200\n",
      "Epoch: 20, Learning rate: 0.400, Loss: 0.186\n",
      "Epoch: 24, Learning rate: 0.400, Loss: 0.174\n",
      "Epoch: 28, Learning rate: 0.400, Loss: 0.163\n",
      "Epoch: 32, Learning rate: 0.400, Loss: 0.153\n",
      "Epoch: 36, Learning rate: 0.400, Loss: 0.144\n",
      "Epoch: 40, Learning rate: 0.400, Loss: 0.137\n",
      "Epoch: 44, Learning rate: 0.400, Loss: 0.130\n",
      "Epoch: 48, Learning rate: 0.400, Loss: 0.123\n",
      "Epoch: 52, Learning rate: 0.400, Loss: 0.117\n",
      "Epoch: 56, Learning rate: 0.400, Loss: 0.112\n",
      "Epoch: 60, Learning rate: 0.400, Loss: 0.107\n",
      "Epoch: 64, Learning rate: 0.400, Loss: 0.102\n",
      "Epoch: 68, Learning rate: 0.400, Loss: 0.098\n",
      "Epoch: 72, Learning rate: 0.400, Loss: 0.094\n",
      "Epoch: 76, Learning rate: 0.400, Loss: 0.091\n",
      "Epoch: 80, Learning rate: 0.400, Loss: 0.087\n",
      "Epoch: 84, Learning rate: 0.400, Loss: 0.084\n",
      "Epoch: 88, Learning rate: 0.400, Loss: 0.081\n",
      "Epoch: 92, Learning rate: 0.400, Loss: 0.078\n",
      "Epoch: 96, Learning rate: 0.400, Loss: 0.076\n",
      "Epoch: 100, Learning rate: 0.400, Loss: 0.073\n"
     ]
    },
    {
     "data": {
      "image/png": "[encoded data removed]",
      "text/plain": [
       "<Figure size 432x288 with 1 Axes>"
      ]
     },
     "metadata": {
      "needs_background": "light"
     },
     "output_type": "display_data"
    }
   ],
   "source": [
    "total_loss = train_network(network, datasets, num_outputs, learning_rate=0.4, num_epochs=100)\n",
    "plot_network(total_loss)"
   ]
  },
  {
   "cell_type": "markdown",
   "metadata": {},
   "source": [
    "## Predicting"
   ]
  },
  {
   "cell_type": "code",
   "execution_count": 25,
   "metadata": {},
   "outputs": [],
   "source": [
    "def predict(network, features):\n",
    "    outputs = forward_propagate(network, features)\n",
    "    return outputs.index(max(outputs))"
   ]
  },
  {
   "cell_type": "code",
   "execution_count": 26,
   "metadata": {},
   "outputs": [],
   "source": [
    "def calculate_accuracy(predictions, labels):\n",
    "    \n",
    "    score = 0.0\n",
    "    for pred, label in zip(predictions, labels):\n",
    "        if pred == label:\n",
    "            score += 1.\n",
    "            \n",
    "    accuracy = (score/ len(labels)) * 100.\n",
    "    return accuracy"
   ]
  },
  {
   "cell_type": "code",
   "execution_count": 27,
   "metadata": {},
   "outputs": [
    {
     "name": "stdout",
     "output_type": "stream",
     "text": [
      "Model Accuracy: 100.0%\n"
     ]
    }
   ],
   "source": [
    "predictions = []; labels = []\n",
    "for features in datasets:\n",
    "    prediction = predict(network, features)\n",
    "    \n",
    "    predictions.append(prediction)\n",
    "    labels.append(features[-1])\n",
    "    \n",
    "accuracy = calculate_accuracy(predictions, labels)\n",
    "print(f'Model Accuracy: {accuracy}%')"
   ]
  }
 ],
 "metadata": {
  "kernelspec": {
   "display_name": "Python 3.10.4 ('tf')",
   "language": "python",
   "name": "python3"
  },
  "language_info": {
   "codemirror_mode": {
    "name": "ipython",
    "version": 3
   },
   "file_extension": ".py",
   "mimetype": "text/x-python",
   "name": "python",
   "nbconvert_exporter": "python",
   "pygments_lexer": "ipython3",
   "version": "3.10.4"
  },
  "orig_nbformat": 4,
  "vscode": {
   "interpreter": {
    "hash": "50ca854c4c3efc08975ea3cb237e66ea0431a08d0f81600bb6a2a9be70ab2e48"
   }
  }
 },
 "nbformat": 4,
 "nbformat_minor": 2
}
