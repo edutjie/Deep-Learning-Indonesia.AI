{
 "cells": [
  {
   "cell_type": "markdown",
   "metadata": {},
   "source": [
    "*Eduardus Tjitrahardja | @edutjie | 2022*"
   ]
  },
  {
   "cell_type": "markdown",
   "metadata": {},
   "source": [
    "# Neural Network"
   ]
  },
  {
   "cell_type": "markdown",
   "metadata": {},
   "source": [
    "## Importing Libraries"
   ]
  },
  {
   "cell_type": "code",
   "execution_count": 1,
   "metadata": {},
   "outputs": [],
   "source": [
    "import math\n",
    "import numpy as np\n",
    "import matplotlib.pyplot as plt\n",
    "import pprint\n",
    "\n",
    "from random import random, seed; seed(90)"
   ]
  },
  {
   "cell_type": "markdown",
   "metadata": {},
   "source": [
    "## Defining Neural Network"
   ]
  },
  {
   "cell_type": "code",
   "execution_count": 4,
   "metadata": {},
   "outputs": [],
   "source": [
    "def init_neural_network(num_inputs, num_hidden, num_outputs):\n",
    "    network = list()\n",
    "\n",
    "    hidden_layer = [{\"weights\": [random() for i in range(num_inputs + 1)]} for i in range(num_hidden)] # +1 for bias\n",
    "    network.append(hidden_layer)\n",
    "\n",
    "    output_layer = [{\"weights\": [random() for i in range(num_hidden + 1)]} for i in range(num_outputs)] # +1 for bias\n",
    "    network.append(output_layer)\n",
    "\n",
    "    return network"
   ]
  },
  {
   "cell_type": "markdown",
   "metadata": {},
   "source": [
    "## Creating Instance"
   ]
  },
  {
   "cell_type": "code",
   "execution_count": 8,
   "metadata": {},
   "outputs": [
    {
     "data": {
      "text/plain": [
       "[[{'weights': [0.2750720593819248, 0.17597216072115396, 0.3721997388567482]},\n",
       "  {'weights': [0.4391323842653869, 0.3194359068983069, 0.8749917145414905]}],\n",
       " [{'weights': [0.5321511743263649, 0.4238104857472984, 0.9610461408998433]},\n",
       "  {'weights': [0.8853659998537553, 0.05661977452722089, 0.34245435563150806]}]]"
      ]
     },
     "execution_count": 8,
     "metadata": {},
     "output_type": "execute_result"
    }
   ],
   "source": [
    "network = init_neural_network(2, 2, 2)\n",
    "network"
   ]
  },
  {
   "cell_type": "markdown",
   "metadata": {},
   "source": [
    "## Forward Propagation"
   ]
  },
  {
   "cell_type": "code",
   "execution_count": 9,
   "metadata": {},
   "outputs": [],
   "source": [
    "def activate(weights, inputs):\n",
    "    activation = weights[-1] # bias\n",
    "    for i in range(len(weights)-1):\n",
    "        activation += weights[i] * inputs[i]\n",
    "    return activation"
   ]
  },
  {
   "cell_type": "code",
   "execution_count": 11,
   "metadata": {},
   "outputs": [],
   "source": [
    "# activation function: sigmoid\n",
    "def transfer(activation):\n",
    "    return 1.0 / (1.0 + math.exp(-activation))"
   ]
  },
  {
   "cell_type": "markdown",
   "metadata": {},
   "source": [
    "## Forward Process"
   ]
  },
  {
   "cell_type": "code",
   "execution_count": 13,
   "metadata": {},
   "outputs": [],
   "source": [
    "def forward_propagate(network, feature):\n",
    "    inputs = feature\n",
    "    for layer in network:\n",
    "        new_inputs = []\n",
    "        for neuron in layer:\n",
    "            activation = activate(neuron[\"weights\"], inputs)\n",
    "            neuron[\"output\"] = transfer(activation)\n",
    "            new_inputs.append(neuron[\"output\"])\n",
    "        inputs = new_inputs\n",
    "    return inputs"
   ]
  },
  {
   "cell_type": "code",
   "execution_count": 14,
   "metadata": {},
   "outputs": [
    {
     "data": {
      "text/plain": [
       "[0.8385492129472636, 0.7252910000060221]"
      ]
     },
     "execution_count": 14,
     "metadata": {},
     "output_type": "execute_result"
    }
   ],
   "source": [
    "features = [0.98, 0.1]\n",
    "forward_propagate(network, features)"
   ]
  },
  {
   "cell_type": "markdown",
   "metadata": {},
   "source": [
    "## Back Propogration"
   ]
  },
  {
   "cell_type": "code",
   "execution_count": 15,
   "metadata": {},
   "outputs": [],
   "source": [
    "def transfer_derivative(output):\n",
    "    return output * (1.0 - output)"
   ]
  },
  {
   "cell_type": "code",
   "execution_count": 16,
   "metadata": {},
   "outputs": [],
   "source": [
    "def backward_propagate_error(network, expected):\n",
    "    for i in reversed(range(len(network))):\n",
    "        layer = network[i]\n",
    "        errors = list()\n",
    "        \n",
    "        # error for output layer\n",
    "        if i != len(network)-1:\n",
    "            for j in range(len(layer)):\n",
    "                error = 0.0\n",
    "                for neuron in network[i + 1]:\n",
    "                    error += (neuron[\"weights\"][j] * neuron[\"delta\"])\n",
    "                errors.append(error)\n",
    "        # error for hidden layer\n",
    "        else:\n",
    "            for j in range(len(layer)):\n",
    "                neuron = layer[j]\n",
    "                errors.append(expected[j] - neuron[\"output\"])\n",
    "                \n",
    "        # calculate delta for each neuron\n",
    "        for j in range(len(layer)):\n",
    "            neuron = layer[j]\n",
    "            neuron[\"delta\"] = errors[j] * transfer_derivative(neuron[\"output\"])"
   ]
  },
  {
   "cell_type": "markdown",
   "metadata": {},
   "source": [
    "## Updating Weight"
   ]
  },
  {
   "cell_type": "code",
   "execution_count": null,
   "metadata": {},
   "outputs": [],
   "source": [
    "def update_weigths(network, feature, lr):\n",
    "    for i in range(len(network)):\n",
    "        inputs = feature if i == 0 else [neuron[\"output\"] for neuron in network[i - 1]]\n",
    "        for neuron in network[i]:\n",
    "            for j in range(len(inputs)):\n",
    "                neuron[\"weights\"][j] += lr * neuron[\"delta\"] * inputs[j]\n",
    "            neuron[\"weights\"][-1] += lr * neuron[\"delta\"]"
   ]
  },
  {
   "cell_type": "markdown",
   "metadata": {},
   "source": [
    "## Training Weight"
   ]
  },
  {
   "cell_type": "code",
   "execution_count": 18,
   "metadata": {},
   "outputs": [],
   "source": [
    "def train_network(network, features, expected, lr, epochs):\n",
    "    total_loss = []\n",
    "    print_every = 4\n",
    "    for epoch in range(epochs):\n",
    "        sum_error = 0\n",
    "        for feature, expected in zip(features, expected):\n",
    "            outputs = forward_propagate(network, feature)\n",
    "            sum_error += sum([(expected[i] - outputs[i])**2 for i in range(len(outputs))])\n",
    "            backward_propagate_error(network, expected)\n",
    "            update_weigths(network, feature, lr)\n",
    "        if epoch % print_every == 0:\n",
    "            print(f\"Epoch {epoch}, loss: {sum_error}, lr: {lr}\")\n",
    "        total_loss.append(sum_error)\n",
    "    for layer in network:\n",
    "        for neuron in layer:\n",
    "            del neuron[\"output\"]\n",
    "            del neuron[\"delta\"]\n",
    "    return total_loss"
   ]
  },
  {
   "cell_type": "markdown",
   "metadata": {},
   "source": [
    "## Running Network"
   ]
  },
  {
   "cell_type": "code",
   "execution_count": 19,
   "metadata": {},
   "outputs": [],
   "source": [
    "def plot_network(total_loss):\n",
    "    plt.plot(total_loss)\n",
    "    plt.title(\"Loss\")\n",
    "    plt.xlabel(\"Epoch\")\n",
    "    plt.ylabel(\"Loss\")\n",
    "    plt.show()"
   ]
  },
  {
   "cell_type": "code",
   "execution_count": null,
   "metadata": {},
   "outputs": [],
   "source": [
    "datasets = []"
   ]
  }
 ],
 "metadata": {
  "kernelspec": {
   "display_name": "Python 3.10.4 ('tf')",
   "language": "python",
   "name": "python3"
  },
  "language_info": {
   "codemirror_mode": {
    "name": "ipython",
    "version": 3
   },
   "file_extension": ".py",
   "mimetype": "text/x-python",
   "name": "python",
   "nbconvert_exporter": "python",
   "pygments_lexer": "ipython3",
   "version": "3.10.4"
  },
  "orig_nbformat": 4,
  "vscode": {
   "interpreter": {
    "hash": "50ca854c4c3efc08975ea3cb237e66ea0431a08d0f81600bb6a2a9be70ab2e48"
   }
  }
 },
 "nbformat": 4,
 "nbformat_minor": 2
}
